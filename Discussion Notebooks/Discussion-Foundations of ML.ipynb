{
 "cells": [
  {
   "cell_type": "markdown",
   "id": "9401f8fa",
   "metadata": {},
   "source": [
    "# ============================"
   ]
  },
  {
   "cell_type": "markdown",
   "id": "9d8e5cb5",
   "metadata": {},
   "source": [
    "# Week 1"
   ]
  },
  {
   "cell_type": "markdown",
   "id": "4e073521",
   "metadata": {},
   "source": [
    "# ============================"
   ]
  },
  {
   "cell_type": "markdown",
   "id": "59f6f004",
   "metadata": {},
   "source": [
    "## Python as Calculator"
   ]
  },
  {
   "cell_type": "markdown",
   "id": "4c67652f",
   "metadata": {},
   "source": [
    "# -----------------------------------------"
   ]
  },
  {
   "cell_type": "markdown",
   "id": "8ed36a3e",
   "metadata": {},
   "source": [
    "## Loop control statements (while, if, for)"
   ]
  },
  {
   "cell_type": "code",
   "execution_count": null,
   "id": "2bb325f5",
   "metadata": {},
   "outputs": [],
   "source": []
  },
  {
   "cell_type": "markdown",
   "id": "b34ce27f",
   "metadata": {},
   "source": [
    "#### Control Flow [Documentation](https://docs.python.org/3/tutorial/controlflow.html)"
   ]
  },
  {
   "cell_type": "markdown",
   "id": "3e43f68d",
   "metadata": {},
   "source": [
    "# -----------------------------------------"
   ]
  },
  {
   "cell_type": "markdown",
   "id": "6f6e1709",
   "metadata": {},
   "source": [
    "## Python Data Structures"
   ]
  },
  {
   "cell_type": "markdown",
   "id": "188845e7",
   "metadata": {},
   "source": [
    "### 1. Strings"
   ]
  },
  {
   "cell_type": "code",
   "execution_count": null,
   "id": "b4ddfbcd",
   "metadata": {},
   "outputs": [],
   "source": []
  },
  {
   "cell_type": "markdown",
   "id": "1e2bdf42",
   "metadata": {},
   "source": [
    "### 2. Lists"
   ]
  },
  {
   "cell_type": "code",
   "execution_count": null,
   "id": "0a41bde9",
   "metadata": {},
   "outputs": [],
   "source": []
  },
  {
   "cell_type": "markdown",
   "id": "895316c7",
   "metadata": {},
   "source": [
    "### 3. Dictionary"
   ]
  },
  {
   "cell_type": "code",
   "execution_count": null,
   "id": "2e571fb6",
   "metadata": {},
   "outputs": [],
   "source": []
  },
  {
   "cell_type": "markdown",
   "id": "f2bf3a3b",
   "metadata": {},
   "source": [
    "# -----------------------------------------"
   ]
  },
  {
   "cell_type": "markdown",
   "id": "bf8a7a94",
   "metadata": {},
   "source": [
    "## Importing Packages in Python"
   ]
  },
  {
   "cell_type": "code",
   "execution_count": 5,
   "id": "6d1bd6a5",
   "metadata": {},
   "outputs": [],
   "source": [
    "# Import <package name> as <abbreviation>"
   ]
  },
  {
   "cell_type": "markdown",
   "id": "e2dab8c7",
   "metadata": {},
   "source": [
    "### Useful Python Packages"
   ]
  },
  {
   "cell_type": "markdown",
   "id": "91c650d7",
   "metadata": {},
   "source": [
    "#### 1. Numpy  "
   ]
  },
  {
   "cell_type": "markdown",
   "id": "dce4019e",
   "metadata": {},
   "source": [
    "#### [Numpy Documentation](https://numpy.org/devdocs/)"
   ]
  },
  {
   "cell_type": "code",
   "execution_count": null,
   "id": "c1e07c3d",
   "metadata": {},
   "outputs": [],
   "source": []
  },
  {
   "cell_type": "markdown",
   "id": "21ebece4",
   "metadata": {},
   "source": [
    "#### 2. Matplotlib"
   ]
  },
  {
   "cell_type": "markdown",
   "id": "d4afd4f4",
   "metadata": {},
   "source": [
    "#### [Matplotlib Documentation](https://matplotlib.org/stable/index.html)"
   ]
  },
  {
   "cell_type": "code",
   "execution_count": null,
   "id": "edcfd8ff",
   "metadata": {},
   "outputs": [],
   "source": []
  },
  {
   "cell_type": "markdown",
   "id": "48811bb8",
   "metadata": {},
   "source": [
    "#### 3. Math"
   ]
  },
  {
   "cell_type": "markdown",
   "id": "ac4c8d44",
   "metadata": {},
   "source": [
    "#### [Math Documentation](https://docs.python.org/3/library/math.html)"
   ]
  },
  {
   "cell_type": "code",
   "execution_count": null,
   "id": "d60f465c",
   "metadata": {},
   "outputs": [],
   "source": []
  },
  {
   "cell_type": "markdown",
   "id": "a7134ec1",
   "metadata": {},
   "source": [
    "#### Useful Packages for Machine Learning Applications\n",
    "**[1. TensorFlow](https://www.tensorflow.org/api_docs/python/tf)** <br>\n",
    "**[2. pytorch](https://pytorch.org/docs/stable/index.html)** <br>\n",
    "**[3. scipy](https://scipy.org/)** <br>\n",
    "**[4. keras](https://keras.io/)** <br>\n",
    "**[5. seaborn](https://seaborn.pydata.org/)** <br>\n",
    "**[6. scikit-learn](https://scikit-learn.org/stable/)** <br>\n",
    "**[7. pandas](https://pandas.pydata.org/docs/)** <br>\n",
    "**[8. nltk (Natural Language Toolkit)](https://www.nltk.org/)** <br>"
   ]
  },
  {
   "cell_type": "markdown",
   "id": "b7dfc936",
   "metadata": {},
   "source": [
    "### Vectorized "
   ]
  },
  {
   "cell_type": "code",
   "execution_count": null,
   "id": "2ce20c12",
   "metadata": {},
   "outputs": [],
   "source": []
  }
 ],
 "metadata": {
  "kernelspec": {
   "display_name": "Python 3",
   "language": "python",
   "name": "python3"
  },
  "language_info": {
   "codemirror_mode": {
    "name": "ipython",
    "version": 3
   },
   "file_extension": ".py",
   "mimetype": "text/x-python",
   "name": "python",
   "nbconvert_exporter": "python",
   "pygments_lexer": "ipython3",
   "version": "3.8.8"
  }
 },
 "nbformat": 4,
 "nbformat_minor": 5
}
