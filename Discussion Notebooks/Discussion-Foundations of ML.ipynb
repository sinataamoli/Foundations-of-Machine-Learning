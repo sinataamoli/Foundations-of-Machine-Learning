{
 "cells": [
  {
   "cell_type": "markdown",
   "id": "2f66ef2a",
   "metadata": {},
   "source": [
    "# ============================"
   ]
  },
  {
   "cell_type": "markdown",
   "id": "9d8e5cb5",
   "metadata": {},
   "source": [
    "# Week 1"
   ]
  },
  {
   "cell_type": "markdown",
   "id": "28ade798",
   "metadata": {},
   "source": [
    "# ============================"
   ]
  },
  {
   "cell_type": "markdown",
   "id": "c6b4e0f3",
   "metadata": {},
   "source": [
    "## Python as Calculator"
   ]
  },
  {
   "cell_type": "markdown",
   "id": "010dc3ed",
   "metadata": {},
   "source": [
    "# -----------------------------------------"
   ]
  },
  {
   "cell_type": "markdown",
   "id": "c45a3df5",
   "metadata": {},
   "source": [
    "## Loop control statements (while, if, for)"
   ]
  },
  {
   "cell_type": "code",
   "execution_count": null,
   "id": "761d29ac",
   "metadata": {},
   "outputs": [],
   "source": []
  },
  {
   "cell_type": "markdown",
   "id": "406ecb88",
   "metadata": {},
   "source": [
    "#### Control Flow [Documentation](https://docs.python.org/3/tutorial/controlflow.html)"
   ]
  },
  {
   "cell_type": "markdown",
   "id": "b9b66001",
   "metadata": {},
   "source": [
    "# -----------------------------------------"
   ]
  },
  {
   "cell_type": "markdown",
   "id": "ae201c93",
   "metadata": {},
   "source": [
    "## Python Data Structures"
   ]
  },
  {
   "cell_type": "markdown",
   "id": "0edc9a00",
   "metadata": {},
   "source": [
    "### 1. Strings"
   ]
  },
  {
   "cell_type": "code",
   "execution_count": null,
   "id": "284ad3ea",
   "metadata": {},
   "outputs": [],
   "source": []
  },
  {
   "cell_type": "markdown",
   "id": "ed81e610",
   "metadata": {},
   "source": [
    "### 2. Lists"
   ]
  },
  {
   "cell_type": "code",
   "execution_count": null,
   "id": "f46c12be",
   "metadata": {},
   "outputs": [],
   "source": []
  },
  {
   "cell_type": "markdown",
   "id": "ca792244",
   "metadata": {},
   "source": [
    "### 3. Dictionary"
   ]
  },
  {
   "cell_type": "code",
   "execution_count": null,
   "id": "5e9bee42",
   "metadata": {},
   "outputs": [],
   "source": []
  },
  {
   "cell_type": "markdown",
   "id": "0dc0a728",
   "metadata": {},
   "source": [
    "# -----------------------------------------"
   ]
  },
  {
   "cell_type": "markdown",
   "id": "ebcbd267",
   "metadata": {},
   "source": [
    "## Importing Packages in Python"
   ]
  },
  {
   "cell_type": "code",
   "execution_count": 5,
   "id": "188f38a3",
   "metadata": {},
   "outputs": [],
   "source": [
    "# Import <package name> as <abbreviation>"
   ]
  },
  {
   "cell_type": "markdown",
   "id": "41b3c4d3",
   "metadata": {},
   "source": [
    "### Useful Python Packages"
   ]
  },
  {
   "cell_type": "markdown",
   "id": "a9263d82",
   "metadata": {},
   "source": [
    "#### 1. Numpy  "
   ]
  },
  {
   "cell_type": "markdown",
   "id": "312db405",
   "metadata": {},
   "source": [
    "#### [Numpy Documentation](https://numpy.org/devdocs/)"
   ]
  },
  {
   "cell_type": "code",
   "execution_count": null,
   "id": "0b79c481",
   "metadata": {},
   "outputs": [],
   "source": []
  },
  {
   "cell_type": "markdown",
   "id": "edf1cea4",
   "metadata": {},
   "source": [
    "#### 2. Matplotlib"
   ]
  },
  {
   "cell_type": "markdown",
   "id": "deaddcab",
   "metadata": {},
   "source": [
    "#### [Matplotlib Documentation](https://matplotlib.org/stable/index.html)"
   ]
  },
  {
   "cell_type": "code",
   "execution_count": null,
   "id": "61c30354",
   "metadata": {},
   "outputs": [],
   "source": []
  },
  {
   "cell_type": "markdown",
   "id": "00f40c3a",
   "metadata": {},
   "source": [
    "#### 3. Math"
   ]
  },
  {
   "cell_type": "markdown",
   "id": "4806d0c4",
   "metadata": {},
   "source": [
    "#### [Math Documentation](https://docs.python.org/3/library/math.html)"
   ]
  },
  {
   "cell_type": "code",
   "execution_count": null,
   "id": "2c3adcdb",
   "metadata": {},
   "outputs": [],
   "source": []
  },
  {
   "cell_type": "markdown",
   "id": "239ee3a4",
   "metadata": {},
   "source": [
    "#### Useful Packages for Machine Learning Applications\n",
    "**[1. TensorFlow](https://www.tensorflow.org/api_docs/python/tf)** <br>\n",
    "**[2. pytorch](https://pytorch.org/docs/stable/index.html)** <br>\n",
    "**[3. scipy](https://scipy.org/)** <br>\n",
    "**[4. keras](https://keras.io/)** <br>\n",
    "**[5. seaborn](https://seaborn.pydata.org/)** <br>\n",
    "**[6. scikit-learn](https://scikit-learn.org/stable/)** <br>\n",
    "**[7. pandas](https://pandas.pydata.org/docs/)** <br>\n",
    "**[8. nltk (Natural Language Toolkit)](https://www.nltk.org/)** <br>"
   ]
  },
  {
   "cell_type": "markdown",
   "id": "99ea7bbf",
   "metadata": {},
   "source": [
    "# -----------------------------------------"
   ]
  },
  {
   "cell_type": "markdown",
   "id": "76492096",
   "metadata": {},
   "source": [
    "## Python Functions"
   ]
  },
  {
   "cell_type": "code",
   "execution_count": null,
   "id": "0116ce05",
   "metadata": {},
   "outputs": [],
   "source": []
  },
  {
   "cell_type": "markdown",
   "id": "3c3fcb29",
   "metadata": {},
   "source": [
    "# -----------------------------------------"
   ]
  },
  {
   "cell_type": "markdown",
   "id": "47136207",
   "metadata": {},
   "source": []
  },
  {
   "cell_type": "markdown",
   "id": "62126ddd",
   "metadata": {},
   "source": [
    "## Python built-in functions"
   ]
  },
  {
   "cell_type": "code",
   "execution_count": null,
   "id": "93cc36eb",
   "metadata": {},
   "outputs": [],
   "source": [
    "# get help!\n"
   ]
  },
  {
   "cell_type": "code",
   "execution_count": null,
   "id": "48d8ad1c",
   "metadata": {},
   "outputs": [],
   "source": [
    "# absolute value: abs()\n"
   ]
  },
  {
   "cell_type": "code",
   "execution_count": null,
   "id": "67d2e52d",
   "metadata": {},
   "outputs": [],
   "source": [
    "# all\n"
   ]
  },
  {
   "cell_type": "code",
   "execution_count": null,
   "id": "5a61fa02",
   "metadata": {},
   "outputs": [],
   "source": [
    "# any\n"
   ]
  },
  {
   "cell_type": "code",
   "execution_count": null,
   "id": "4339cb07",
   "metadata": {},
   "outputs": [],
   "source": [
    "# ascii\n"
   ]
  },
  {
   "cell_type": "code",
   "execution_count": null,
   "id": "80e2f5da",
   "metadata": {},
   "outputs": [],
   "source": [
    "# bin\n"
   ]
  },
  {
   "cell_type": "code",
   "execution_count": null,
   "id": "df1b2b14",
   "metadata": {},
   "outputs": [],
   "source": [
    "# bool\n"
   ]
  },
  {
   "cell_type": "code",
   "execution_count": null,
   "id": "97f208c6",
   "metadata": {},
   "outputs": [],
   "source": [
    "# complex\n"
   ]
  },
  {
   "cell_type": "code",
   "execution_count": null,
   "id": "e2c7fe79",
   "metadata": {},
   "outputs": [],
   "source": [
    "# delattr, del\n"
   ]
  },
  {
   "cell_type": "code",
   "execution_count": null,
   "id": "eb991855",
   "metadata": {},
   "outputs": [],
   "source": [
    "# dict\n"
   ]
  },
  {
   "cell_type": "code",
   "execution_count": null,
   "id": "d87f7dbb",
   "metadata": {},
   "outputs": [],
   "source": [
    "# dir\n"
   ]
  },
  {
   "cell_type": "code",
   "execution_count": null,
   "id": "2d2e0fee",
   "metadata": {},
   "outputs": [],
   "source": [
    "# divmod\n"
   ]
  },
  {
   "cell_type": "code",
   "execution_count": null,
   "id": "041ded86",
   "metadata": {},
   "outputs": [],
   "source": [
    "# enumerate\n"
   ]
  },
  {
   "cell_type": "code",
   "execution_count": null,
   "id": "f72ec731",
   "metadata": {},
   "outputs": [],
   "source": [
    "# eval\n"
   ]
  },
  {
   "cell_type": "code",
   "execution_count": null,
   "id": "5cd3dc05",
   "metadata": {},
   "outputs": [],
   "source": [
    "# filter\n"
   ]
  },
  {
   "cell_type": "code",
   "execution_count": null,
   "id": "d6bfd87a",
   "metadata": {},
   "outputs": [],
   "source": [
    "# float, int\n"
   ]
  },
  {
   "cell_type": "code",
   "execution_count": null,
   "id": "2abb61ef",
   "metadata": {},
   "outputs": [],
   "source": [
    "# format\n"
   ]
  },
  {
   "cell_type": "code",
   "execution_count": null,
   "id": "5ff14b0f",
   "metadata": {},
   "outputs": [],
   "source": [
    "# frozenset\n"
   ]
  },
  {
   "cell_type": "code",
   "execution_count": null,
   "id": "4e357ba5",
   "metadata": {},
   "outputs": [],
   "source": [
    "# id\n"
   ]
  },
  {
   "cell_type": "code",
   "execution_count": null,
   "id": "86a8fc4e",
   "metadata": {},
   "outputs": [],
   "source": [
    "# isinstance\n"
   ]
  },
  {
   "cell_type": "code",
   "execution_count": null,
   "id": "21e5240b",
   "metadata": {},
   "outputs": [],
   "source": [
    "# len\n"
   ]
  },
  {
   "cell_type": "code",
   "execution_count": null,
   "id": "4f3f38fa",
   "metadata": {},
   "outputs": [],
   "source": [
    "# shape\n"
   ]
  },
  {
   "cell_type": "code",
   "execution_count": null,
   "id": "87a4f46f",
   "metadata": {},
   "outputs": [],
   "source": [
    "# map\n"
   ]
  },
  {
   "cell_type": "code",
   "execution_count": null,
   "id": "d79d37c1",
   "metadata": {},
   "outputs": [],
   "source": [
    "# min, max\n"
   ]
  },
  {
   "cell_type": "code",
   "execution_count": null,
   "id": "98b5b0c6",
   "metadata": {},
   "outputs": [],
   "source": [
    "# pow\n"
   ]
  },
  {
   "cell_type": "code",
   "execution_count": null,
   "id": "fdee5609",
   "metadata": {},
   "outputs": [],
   "source": [
    "# reversed\n"
   ]
  },
  {
   "cell_type": "code",
   "execution_count": null,
   "id": "646ca271",
   "metadata": {},
   "outputs": [],
   "source": [
    "# round\n"
   ]
  },
  {
   "cell_type": "code",
   "execution_count": null,
   "id": "b65f28c5",
   "metadata": {},
   "outputs": [],
   "source": [
    "# slice\n"
   ]
  },
  {
   "cell_type": "code",
   "execution_count": null,
   "id": "35552515",
   "metadata": {},
   "outputs": [],
   "source": [
    "# sorted\n"
   ]
  },
  {
   "cell_type": "code",
   "execution_count": null,
   "id": "fac4965c",
   "metadata": {},
   "outputs": [],
   "source": [
    "# sum\n"
   ]
  },
  {
   "cell_type": "code",
   "execution_count": null,
   "id": "8410d411",
   "metadata": {},
   "outputs": [],
   "source": []
  }
 ],
 "metadata": {
  "kernelspec": {
   "display_name": "Python 3",
   "language": "python",
   "name": "python3"
  },
  "language_info": {
   "codemirror_mode": {
    "name": "ipython",
    "version": 3
   },
   "file_extension": ".py",
   "mimetype": "text/x-python",
   "name": "python",
   "nbconvert_exporter": "python",
   "pygments_lexer": "ipython3",
   "version": "3.8.8"
  }
 },
 "nbformat": 4,
 "nbformat_minor": 5
}
