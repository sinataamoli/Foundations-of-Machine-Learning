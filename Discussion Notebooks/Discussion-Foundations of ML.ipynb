{
 "cells": [
  {
   "cell_type": "markdown",
   "id": "f32c3e2e",
   "metadata": {},
   "source": [
    "# ============================"
   ]
  },
  {
   "cell_type": "markdown",
   "id": "9d8e5cb5",
   "metadata": {},
   "source": [
    "# Week 1"
   ]
  },
  {
   "cell_type": "markdown",
   "id": "fcbbb2fe",
   "metadata": {},
   "source": [
    "# ============================"
   ]
  },
  {
   "cell_type": "markdown",
   "id": "1f38fbe4",
   "metadata": {},
   "source": [
    "## Python as Calculator"
   ]
  },
  {
   "cell_type": "markdown",
   "id": "6e95cca6",
   "metadata": {},
   "source": [
    "# -----------------------------------------"
   ]
  },
  {
   "cell_type": "markdown",
   "id": "56e7a3df",
   "metadata": {},
   "source": [
    "## Loop control statements (while, if, for)"
   ]
  },
  {
   "cell_type": "code",
   "execution_count": null,
   "id": "26e79484",
   "metadata": {},
   "outputs": [],
   "source": []
  },
  {
   "cell_type": "markdown",
   "id": "071ea1f5",
   "metadata": {},
   "source": [
    "#### Control Flow [Documentation](https://docs.python.org/3/tutorial/controlflow.html)"
   ]
  },
  {
   "cell_type": "markdown",
   "id": "820e2d96",
   "metadata": {},
   "source": [
    "# -----------------------------------------"
   ]
  },
  {
   "cell_type": "markdown",
   "id": "a02ef90b",
   "metadata": {},
   "source": [
    "## Python Data Structures"
   ]
  },
  {
   "cell_type": "markdown",
   "id": "1de319d0",
   "metadata": {},
   "source": [
    "### 1. Strings"
   ]
  },
  {
   "cell_type": "code",
   "execution_count": null,
   "id": "798bfba8",
   "metadata": {},
   "outputs": [],
   "source": []
  },
  {
   "cell_type": "markdown",
   "id": "e4f67930",
   "metadata": {},
   "source": [
    "### 2. Lists"
   ]
  },
  {
   "cell_type": "code",
   "execution_count": null,
   "id": "94cec77c",
   "metadata": {},
   "outputs": [],
   "source": []
  },
  {
   "cell_type": "markdown",
   "id": "293acc68",
   "metadata": {},
   "source": [
    "### 3. Dictionary"
   ]
  },
  {
   "cell_type": "code",
   "execution_count": null,
   "id": "4ee820ed",
   "metadata": {},
   "outputs": [],
   "source": []
  },
  {
   "cell_type": "markdown",
   "id": "d36634dd",
   "metadata": {},
   "source": [
    "# -----------------------------------------"
   ]
  },
  {
   "cell_type": "markdown",
   "id": "88478336",
   "metadata": {},
   "source": [
    "## Importing Packages in Python"
   ]
  },
  {
   "cell_type": "code",
   "execution_count": 5,
   "id": "91c8c6a1",
   "metadata": {},
   "outputs": [],
   "source": [
    "# Import <package name> as <abbreviation>"
   ]
  },
  {
   "cell_type": "markdown",
   "id": "3d268b86",
   "metadata": {},
   "source": [
    "### Useful Python Packages"
   ]
  },
  {
   "cell_type": "markdown",
   "id": "7cba7aa3",
   "metadata": {},
   "source": [
    "#### 1. Numpy  "
   ]
  },
  {
   "cell_type": "markdown",
   "id": "57a01d67",
   "metadata": {},
   "source": [
    "#### [Numpy Documentation](https://numpy.org/devdocs/)"
   ]
  },
  {
   "cell_type": "code",
   "execution_count": null,
   "id": "b08c0603",
   "metadata": {},
   "outputs": [],
   "source": []
  },
  {
   "cell_type": "markdown",
   "id": "2a1eb732",
   "metadata": {},
   "source": [
    "#### 2. Matplotlib"
   ]
  },
  {
   "cell_type": "markdown",
   "id": "47c3bfac",
   "metadata": {},
   "source": [
    "#### [Matplotlib Documentation](https://matplotlib.org/stable/index.html)"
   ]
  },
  {
   "cell_type": "code",
   "execution_count": null,
   "id": "917aba41",
   "metadata": {},
   "outputs": [],
   "source": []
  },
  {
   "cell_type": "markdown",
   "id": "0d60671d",
   "metadata": {},
   "source": [
    "#### 3. Math"
   ]
  },
  {
   "cell_type": "markdown",
   "id": "8163be0c",
   "metadata": {},
   "source": [
    "#### [Math Documentation](https://docs.python.org/3/library/math.html)"
   ]
  },
  {
   "cell_type": "code",
   "execution_count": null,
   "id": "3d4ba3de",
   "metadata": {},
   "outputs": [],
   "source": []
  },
  {
   "cell_type": "markdown",
   "id": "12f97ae1",
   "metadata": {},
   "source": [
    "#### Useful Packages for Machine Learning Applications\n",
    "**[1. TensorFlow](https://www.tensorflow.org/api_docs/python/tf)** <br>\n",
    "**[2. pytorch](https://pytorch.org/docs/stable/index.html)** <br>\n",
    "**[3. scipy](https://scipy.org/)** <br>\n",
    "**[4. keras](https://keras.io/)** <br>\n",
    "**[5. seaborn](https://seaborn.pydata.org/)** <br>\n",
    "**[6. scikit-learn](https://scikit-learn.org/stable/)** <br>\n",
    "**[7. pandas](https://pandas.pydata.org/docs/)** <br>\n",
    "**[8. nltk (Natural Language Toolkit)](https://www.nltk.org/)** <br>"
   ]
  },
  {
   "cell_type": "markdown",
   "id": "e4d0df1a",
   "metadata": {},
   "source": [
    "# -----------------------------------------"
   ]
  },
  {
   "cell_type": "markdown",
   "id": "5c4ac516",
   "metadata": {},
   "source": [
    "## Python Functions"
   ]
  },
  {
   "cell_type": "code",
   "execution_count": null,
   "id": "3cdc3e2f",
   "metadata": {},
   "outputs": [],
   "source": []
  },
  {
   "cell_type": "markdown",
   "id": "dcfb3bb2",
   "metadata": {},
   "source": [
    "# -----------------------------------------"
   ]
  },
  {
   "cell_type": "markdown",
   "id": "52d6a4cf",
   "metadata": {},
   "source": []
  },
  {
   "cell_type": "markdown",
   "id": "f5f8ccf7",
   "metadata": {},
   "source": [
    "## Python built-in functions"
   ]
  },
  {
   "cell_type": "code",
   "execution_count": null,
   "id": "f84f3895",
   "metadata": {},
   "outputs": [],
   "source": [
    "# get help!\n"
   ]
  },
  {
   "cell_type": "code",
   "execution_count": null,
   "id": "6c9a395e",
   "metadata": {},
   "outputs": [],
   "source": [
    "# absolute value: abs()\n"
   ]
  },
  {
   "cell_type": "code",
   "execution_count": null,
   "id": "0ecf78e0",
   "metadata": {},
   "outputs": [],
   "source": [
    "# all\n"
   ]
  },
  {
   "cell_type": "code",
   "execution_count": null,
   "id": "4db18fb6",
   "metadata": {},
   "outputs": [],
   "source": [
    "# any\n"
   ]
  },
  {
   "cell_type": "code",
   "execution_count": null,
   "id": "fe1c07f1",
   "metadata": {},
   "outputs": [],
   "source": [
    "# ascii\n"
   ]
  },
  {
   "cell_type": "code",
   "execution_count": null,
   "id": "d5a56b00",
   "metadata": {},
   "outputs": [],
   "source": [
    "# bin\n"
   ]
  },
  {
   "cell_type": "code",
   "execution_count": null,
   "id": "58ceb09f",
   "metadata": {},
   "outputs": [],
   "source": [
    "# bool\n"
   ]
  },
  {
   "cell_type": "code",
   "execution_count": null,
   "id": "725e39b8",
   "metadata": {},
   "outputs": [],
   "source": [
    "# complex\n"
   ]
  },
  {
   "cell_type": "code",
   "execution_count": null,
   "id": "4d45c239",
   "metadata": {},
   "outputs": [],
   "source": [
    "# delattr, del\n"
   ]
  },
  {
   "cell_type": "code",
   "execution_count": null,
   "id": "1b115cac",
   "metadata": {},
   "outputs": [],
   "source": [
    "# dict\n"
   ]
  },
  {
   "cell_type": "code",
   "execution_count": null,
   "id": "d59dd670",
   "metadata": {},
   "outputs": [],
   "source": [
    "# dir\n"
   ]
  },
  {
   "cell_type": "code",
   "execution_count": null,
   "id": "5eb8380e",
   "metadata": {},
   "outputs": [],
   "source": [
    "# divmod\n"
   ]
  },
  {
   "cell_type": "code",
   "execution_count": null,
   "id": "565ea3b2",
   "metadata": {},
   "outputs": [],
   "source": [
    "# enumerate\n"
   ]
  },
  {
   "cell_type": "code",
   "execution_count": null,
   "id": "1296f982",
   "metadata": {},
   "outputs": [],
   "source": [
    "# eval\n"
   ]
  },
  {
   "cell_type": "code",
   "execution_count": null,
   "id": "6d831a3b",
   "metadata": {},
   "outputs": [],
   "source": [
    "# filter\n"
   ]
  },
  {
   "cell_type": "code",
   "execution_count": null,
   "id": "72244764",
   "metadata": {},
   "outputs": [],
   "source": [
    "# float, int\n"
   ]
  },
  {
   "cell_type": "code",
   "execution_count": null,
   "id": "34ae2da7",
   "metadata": {},
   "outputs": [],
   "source": [
    "# format\n"
   ]
  },
  {
   "cell_type": "code",
   "execution_count": null,
   "id": "d872d14c",
   "metadata": {},
   "outputs": [],
   "source": [
    "# frozenset\n"
   ]
  },
  {
   "cell_type": "code",
   "execution_count": null,
   "id": "bef5932b",
   "metadata": {},
   "outputs": [],
   "source": [
    "# id\n"
   ]
  },
  {
   "cell_type": "code",
   "execution_count": null,
   "id": "f4fd2b81",
   "metadata": {},
   "outputs": [],
   "source": [
    "# isinstance\n"
   ]
  },
  {
   "cell_type": "code",
   "execution_count": null,
   "id": "01bf21d6",
   "metadata": {},
   "outputs": [],
   "source": [
    "# len\n"
   ]
  },
  {
   "cell_type": "code",
   "execution_count": null,
   "id": "a4b329eb",
   "metadata": {},
   "outputs": [],
   "source": [
    "# shape\n"
   ]
  },
  {
   "cell_type": "code",
   "execution_count": null,
   "id": "d844ceac",
   "metadata": {},
   "outputs": [],
   "source": [
    "# map\n"
   ]
  },
  {
   "cell_type": "code",
   "execution_count": null,
   "id": "5fa80283",
   "metadata": {},
   "outputs": [],
   "source": [
    "# min, max\n"
   ]
  },
  {
   "cell_type": "code",
   "execution_count": null,
   "id": "5e6560c0",
   "metadata": {},
   "outputs": [],
   "source": [
    "# pow\n"
   ]
  },
  {
   "cell_type": "code",
   "execution_count": null,
   "id": "51e7a22d",
   "metadata": {},
   "outputs": [],
   "source": [
    "# reversed\n"
   ]
  },
  {
   "cell_type": "code",
   "execution_count": null,
   "id": "9512895f",
   "metadata": {},
   "outputs": [],
   "source": [
    "# round\n"
   ]
  },
  {
   "cell_type": "code",
   "execution_count": null,
   "id": "965a6dbc",
   "metadata": {},
   "outputs": [],
   "source": [
    "# slice\n"
   ]
  },
  {
   "cell_type": "code",
   "execution_count": null,
   "id": "7b8dbc45",
   "metadata": {},
   "outputs": [],
   "source": [
    "# sorted\n"
   ]
  },
  {
   "cell_type": "code",
   "execution_count": null,
   "id": "434bf184",
   "metadata": {},
   "outputs": [],
   "source": [
    "# sum\n"
   ]
  },
  {
   "cell_type": "markdown",
   "id": "9198bc0e",
   "metadata": {},
   "source": [
    "# -----------------------------------------"
   ]
  },
  {
   "cell_type": "markdown",
   "id": "6d3575fb",
   "metadata": {},
   "source": [
    "## Object Oriented Programming in Python"
   ]
  },
  {
   "cell_type": "markdown",
   "id": "6c4b0072",
   "metadata": {},
   "source": [
    "# -----------------------------------------"
   ]
  },
  {
   "cell_type": "code",
   "execution_count": null,
   "id": "3cf7f1b9",
   "metadata": {},
   "outputs": [],
   "source": []
  }
 ],
 "metadata": {
  "kernelspec": {
   "display_name": "Python 3",
   "language": "python",
   "name": "python3"
  },
  "language_info": {
   "codemirror_mode": {
    "name": "ipython",
    "version": 3
   },
   "file_extension": ".py",
   "mimetype": "text/x-python",
   "name": "python",
   "nbconvert_exporter": "python",
   "pygments_lexer": "ipython3",
   "version": "3.8.8"
  }
 },
 "nbformat": 4,
 "nbformat_minor": 5
}
