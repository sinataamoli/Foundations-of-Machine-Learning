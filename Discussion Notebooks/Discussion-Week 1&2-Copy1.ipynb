{
 "cells": [
  {
   "cell_type": "markdown",
   "id": "7d21f5a5",
   "metadata": {},
   "source": [
    "# ============================"
   ]
  },
  {
   "cell_type": "markdown",
   "id": "9d8e5cb5",
   "metadata": {},
   "source": [
    "# Week 1"
   ]
  },
  {
   "cell_type": "markdown",
   "id": "41b518b3",
   "metadata": {},
   "source": [
    "# ============================"
   ]
  },
  {
   "cell_type": "markdown",
   "id": "73bfe8c1",
   "metadata": {},
   "source": [
    "## Python as Calculator"
   ]
  },
  {
   "cell_type": "code",
   "execution_count": 54,
   "id": "66f9c61b",
   "metadata": {},
   "outputs": [
    {
     "data": {
      "text/plain": [
       "(3, 0.75, 40)"
      ]
     },
     "execution_count": 54,
     "metadata": {},
     "output_type": "execute_result"
    }
   ],
   "source": [
    "1+2, 3/4, 5 * 8"
   ]
  },
  {
   "cell_type": "code",
   "execution_count": 55,
   "id": "36db8ec8",
   "metadata": {},
   "outputs": [],
   "source": [
    "x = 2"
   ]
  },
  {
   "cell_type": "code",
   "execution_count": 56,
   "id": "6f411c7d",
   "metadata": {},
   "outputs": [
    {
     "data": {
      "text/plain": [
       "2"
      ]
     },
     "execution_count": 56,
     "metadata": {},
     "output_type": "execute_result"
    }
   ],
   "source": [
    "x"
   ]
  },
  {
   "cell_type": "markdown",
   "id": "dbd2bc4d",
   "metadata": {},
   "source": [
    "# -----------------------------------------"
   ]
  },
  {
   "cell_type": "markdown",
   "id": "fa253f5d",
   "metadata": {},
   "source": [
    "## Loop control statements (while, if, for)"
   ]
  },
  {
   "cell_type": "markdown",
   "id": "a73c68c6",
   "metadata": {},
   "source": [
    "1- **while** statement"
   ]
  },
  {
   "cell_type": "code",
   "execution_count": 57,
   "id": "15bb9c76",
   "metadata": {},
   "outputs": [
    {
     "name": "stdout",
     "output_type": "stream",
     "text": [
      "x started with 40 and end up with  40\n",
      "y started with 5 and end up with  40\n",
      "z started with 3 and end up with  38\n"
     ]
    }
   ],
   "source": [
    "x = 40\n",
    "y = 5\n",
    "z = 3\n",
    "\n",
    "while y < x:\n",
    "    y += 1\n",
    "    z += 1 # adding one to z\n",
    "    \n",
    "print(\"x started with 40 and end up with \", x)\n",
    "print(\"y started with 5 and end up with \", y)\n",
    "print(\"z started with 3 and end up with \", z)"
   ]
  },
  {
   "cell_type": "markdown",
   "id": "c6c9b0f1",
   "metadata": {},
   "source": [
    "2. **If** statement"
   ]
  },
  {
   "cell_type": "code",
   "execution_count": 59,
   "id": "c3ec8d8a",
   "metadata": {},
   "outputs": [
    {
     "name": "stdout",
     "output_type": "stream",
     "text": [
      "x started with 20 and end up 20\n",
      "y started with 5 and end up 7\n",
      "z started with 4 and end up 1000\n"
     ]
    }
   ],
   "source": [
    "x = 20\n",
    "y = 5\n",
    "z = 4\n",
    "\n",
    "if x == 2:\n",
    "    y += 1\n",
    "elif x != 3:\n",
    "    y += 2\n",
    "    z = 1000\n",
    "else:\n",
    "    y += 30 \n",
    "    z += 20\n",
    "    \n",
    "print(\"x started with 20 and end up\", x)\n",
    "print(\"y started with 5 and end up\", y)\n",
    "print(\"z started with 4 and end up\", z)"
   ]
  },
  {
   "cell_type": "markdown",
   "id": "d27f83c9",
   "metadata": {},
   "source": [
    "3. **for** loop"
   ]
  },
  {
   "cell_type": "code",
   "execution_count": 63,
   "id": "27c449bd",
   "metadata": {},
   "outputs": [
    {
     "name": "stdout",
     "output_type": "stream",
     "text": [
      "1\n",
      "3\n",
      "5\n",
      "8\n",
      "10\n"
     ]
    }
   ],
   "source": [
    "list_1 = [1, 3, 5, 8, 10]\n",
    "\n",
    "for i in range(5):\n",
    "    print(list_1[i])"
   ]
  },
  {
   "cell_type": "code",
   "execution_count": 64,
   "id": "8ca02426",
   "metadata": {},
   "outputs": [
    {
     "name": "stdout",
     "output_type": "stream",
     "text": [
      "1\n",
      "3\n",
      "5\n",
      "8\n",
      "10\n"
     ]
    }
   ],
   "source": [
    "for i in list_1:\n",
    "    print(i)"
   ]
  },
  {
   "cell_type": "markdown",
   "id": "a682cb81",
   "metadata": {},
   "source": [
    "#### Control Flow [Documentation](https://docs.python.org/3/tutorial/controlflow.html)"
   ]
  },
  {
   "cell_type": "markdown",
   "id": "3d609366",
   "metadata": {},
   "source": [
    "# -----------------------------------------"
   ]
  },
  {
   "cell_type": "markdown",
   "id": "97d23b3a",
   "metadata": {},
   "source": [
    "## Python Data Structures"
   ]
  },
  {
   "cell_type": "markdown",
   "id": "6a5329e6",
   "metadata": {},
   "source": [
    "### 1. Strings"
   ]
  },
  {
   "cell_type": "code",
   "execution_count": 65,
   "id": "dffd0f93",
   "metadata": {},
   "outputs": [
    {
     "data": {
      "text/plain": [
       "'Today'"
      ]
     },
     "execution_count": 65,
     "metadata": {},
     "output_type": "execute_result"
    }
   ],
   "source": [
    "string_1 = \"Today\"\n",
    "string_2 = \"is\"\n",
    "string_3 = \"Friday\"\n",
    "\n",
    "string_1"
   ]
  },
  {
   "cell_type": "code",
   "execution_count": 66,
   "id": "13729135",
   "metadata": {},
   "outputs": [
    {
     "data": {
      "text/plain": [
       "'Today is Friday'"
      ]
     },
     "execution_count": 66,
     "metadata": {},
     "output_type": "execute_result"
    }
   ],
   "source": [
    "string_1 + \" \" + string_2 + \" \" + string_3"
   ]
  },
  {
   "cell_type": "code",
   "execution_count": 67,
   "id": "56b8e491",
   "metadata": {},
   "outputs": [
    {
     "data": {
      "text/plain": [
       "'Today is Friday'"
      ]
     },
     "execution_count": 67,
     "metadata": {},
     "output_type": "execute_result"
    }
   ],
   "source": [
    "string_4 = string_1 + \" \" + string_2 + \" \" + string_3\n",
    "string_4"
   ]
  },
  {
   "cell_type": "code",
   "execution_count": 69,
   "id": "22804f21",
   "metadata": {},
   "outputs": [
    {
     "data": {
      "text/plain": [
       "'d'"
      ]
     },
     "execution_count": 69,
     "metadata": {},
     "output_type": "execute_result"
    }
   ],
   "source": [
    "string_1[2]"
   ]
  },
  {
   "cell_type": "markdown",
   "id": "33b52a06",
   "metadata": {},
   "source": [
    "#### ** indexing in Python starts from 0"
   ]
  },
  {
   "cell_type": "markdown",
   "id": "ae24a8a4",
   "metadata": {},
   "source": [
    "### 2. Lists"
   ]
  },
  {
   "cell_type": "code",
   "execution_count": 77,
   "id": "33df0d9f",
   "metadata": {},
   "outputs": [
    {
     "data": {
      "text/plain": [
       "(4, 'Hello', [3, 4], [1, 2, 4], [4, 5])"
      ]
     },
     "execution_count": 77,
     "metadata": {},
     "output_type": "execute_result"
    }
   ],
   "source": [
    "list_1 = [1, 2, 4, 5]\n",
    "list_2 = [2, 3, 4, \"Hello\"]\n",
    "\n",
    "list_1[2], list_2[-1], list_2[1:3], list_1[:3], list_1[2:]"
   ]
  },
  {
   "cell_type": "code",
   "execution_count": 78,
   "id": "50ad5909",
   "metadata": {},
   "outputs": [
    {
     "data": {
      "text/plain": [
       "[1, 2, 4, 5, 1, 2, 4, 5]"
      ]
     },
     "execution_count": 78,
     "metadata": {},
     "output_type": "execute_result"
    }
   ],
   "source": [
    "2 * list_1"
   ]
  },
  {
   "cell_type": "markdown",
   "id": "e5aa552b",
   "metadata": {},
   "source": [
    "#### Nested Lists"
   ]
  },
  {
   "cell_type": "code",
   "execution_count": 80,
   "id": "ce78e43b",
   "metadata": {},
   "outputs": [
    {
     "data": {
      "text/plain": [
       "[[1, 2, 4, 5], [2, 3, 4, 'Hello']]"
      ]
     },
     "execution_count": 80,
     "metadata": {},
     "output_type": "execute_result"
    }
   ],
   "source": [
    "Nested_list = [list_1, list_2]\n",
    "Nested_list"
   ]
  },
  {
   "cell_type": "code",
   "execution_count": 85,
   "id": "e38436d6",
   "metadata": {},
   "outputs": [
    {
     "data": {
      "text/plain": [
       "([2, 3, 4, 'Hello'], 'Hello')"
      ]
     },
     "execution_count": 85,
     "metadata": {},
     "output_type": "execute_result"
    }
   ],
   "source": [
    "Nested_list[1], Nested_list[1][-1]"
   ]
  },
  {
   "cell_type": "markdown",
   "id": "22a10327",
   "metadata": {},
   "source": [
    "##### Other ways of creating a list "
   ]
  },
  {
   "cell_type": "code",
   "execution_count": 88,
   "id": "4c5353ca",
   "metadata": {},
   "outputs": [
    {
     "data": {
      "text/plain": [
       "[2, 'Bye']"
      ]
     },
     "execution_count": 88,
     "metadata": {},
     "output_type": "execute_result"
    }
   ],
   "source": [
    "# Method 2\n",
    "list_3 = []\n",
    "list_3.append(2)\n",
    "list_3.append(\"Bye\")\n",
    "\n",
    "list_3"
   ]
  },
  {
   "cell_type": "code",
   "execution_count": 89,
   "id": "e20ee279",
   "metadata": {},
   "outputs": [
    {
     "data": {
      "text/plain": [
       "[1, 2, 4, 5]"
      ]
     },
     "execution_count": 89,
     "metadata": {},
     "output_type": "execute_result"
    }
   ],
   "source": [
    "# Method 3\n",
    "list_4 = [i for i in list_1]\n",
    "list_4"
   ]
  },
  {
   "cell_type": "code",
   "execution_count": 90,
   "id": "ea09980e",
   "metadata": {},
   "outputs": [
    {
     "data": {
      "text/plain": [
       "[1, 2, 4, 5]"
      ]
     },
     "execution_count": 90,
     "metadata": {},
     "output_type": "execute_result"
    }
   ],
   "source": [
    "# Method 4\n",
    "list_5 = []\n",
    "for i in list_1:\n",
    "    list_5 += [i]\n",
    "\n",
    "list_5"
   ]
  },
  {
   "cell_type": "markdown",
   "id": "e3810125",
   "metadata": {},
   "source": [
    "### 3. Dictionary"
   ]
  },
  {
   "cell_type": "code",
   "execution_count": 92,
   "id": "bd0f2232",
   "metadata": {},
   "outputs": [],
   "source": [
    "# my_Dictionary = {key: values}\n",
    "Class_grades = {}\n",
    "keys = [\"math\", \"biology\"]\n",
    "values_1 = [3, 4, 2]\n",
    "values_2 = [2, 4, 4]\n",
    "\n",
    "Class_grades = {keys[0]: values_1, keys[1]: values_2}"
   ]
  },
  {
   "cell_type": "code",
   "execution_count": 95,
   "id": "a146327d",
   "metadata": {},
   "outputs": [
    {
     "data": {
      "text/plain": [
       "({'math': [3, 4, 2], 'biology': [2, 4, 4]}, [3, 4, 2], [2, 4, 4])"
      ]
     },
     "execution_count": 95,
     "metadata": {},
     "output_type": "execute_result"
    }
   ],
   "source": [
    "Class_grades, Class_grades['math'], Class_grades['biology']"
   ]
  },
  {
   "cell_type": "markdown",
   "id": "5dc4d7d5",
   "metadata": {},
   "source": [
    "# -----------------------------------------"
   ]
  },
  {
   "cell_type": "markdown",
   "id": "ab837f4e",
   "metadata": {},
   "source": [
    "## Importing Packages in Python"
   ]
  },
  {
   "cell_type": "code",
   "execution_count": 5,
   "id": "59d25ca7",
   "metadata": {},
   "outputs": [],
   "source": [
    "# Import <package name> as <abbreviation>"
   ]
  },
  {
   "cell_type": "markdown",
   "id": "45b8b6a7",
   "metadata": {},
   "source": [
    "### Useful Python Packages"
   ]
  },
  {
   "cell_type": "markdown",
   "id": "b4cab145",
   "metadata": {},
   "source": [
    "#### 1. Numpy  "
   ]
  },
  {
   "cell_type": "markdown",
   "id": "f67d8817",
   "metadata": {},
   "source": [
    "#### [Numpy Documentation](https://numpy.org/devdocs/)"
   ]
  },
  {
   "cell_type": "code",
   "execution_count": 96,
   "id": "b3f18468",
   "metadata": {},
   "outputs": [
    {
     "data": {
      "text/plain": [
       "2.0"
      ]
     },
     "execution_count": 96,
     "metadata": {},
     "output_type": "execute_result"
    }
   ],
   "source": [
    "import numpy as np\n",
    "np.sqrt(4)"
   ]
  },
  {
   "cell_type": "markdown",
   "id": "812d9e1a",
   "metadata": {},
   "source": [
    "#### 2. Matplotlib"
   ]
  },
  {
   "cell_type": "markdown",
   "id": "db3b48f1",
   "metadata": {},
   "source": [
    "#### [Matplotlib Documentation](https://matplotlib.org/stable/index.html)"
   ]
  },
  {
   "cell_type": "code",
   "execution_count": 102,
   "id": "580b51cd",
   "metadata": {},
   "outputs": [
    {
     "data": {
      "text/plain": [
       "Text(0.5, 1.0, 'first plot!')"
      ]
     },
     "execution_count": 102,
     "metadata": {},
     "output_type": "execute_result"
    },
    {
     "data": {
      "image/png": "[encoded data removed]",
      "text/plain": [
       "<Figure size 432x288 with 1 Axes>"
      ]
     },
     "metadata": {
      "needs_background": "light"
     },
     "output_type": "display_data"
    }
   ],
   "source": [
    "import matplotlib.pyplot as plt\n",
    "\n",
    "x = np.arange(1, 20, 1)\n",
    "y = np.arange(1, 20, 1)\n",
    "\n",
    "plt.scatter(x, y, color = 'red', s = 30, alpha = 0.5)\n",
    "plt.plot(x, np.sin(x), color = 'blue')\n",
    "plt.xlabel('x')\n",
    "plt.ylabel('y')\n",
    "plt.title('first plot!')"
   ]
  },
  {
   "cell_type": "markdown",
   "id": "593f3dc5",
   "metadata": {},
   "source": [
    "#### 3. Math"
   ]
  },
  {
   "cell_type": "markdown",
   "id": "48060efd",
   "metadata": {},
   "source": [
    "#### [Math Documentation](https://docs.python.org/3/library/math.html)"
   ]
  },
  {
   "cell_type": "markdown",
   "id": "dfc544a9",
   "metadata": {},
   "source": [
    "#### Useful Packages for Machine Learning Applications\n",
    "**[1. TensorFlow](https://www.tensorflow.org/api_docs/python/tf)** <br>\n",
    "**[2. pytorch](https://pytorch.org/docs/stable/index.html)** <br>\n",
    "**[3. scipy](https://scipy.org/)** <br>\n",
    "**[4. keras](https://keras.io/)** <br>\n",
    "**[5. seaborn](https://seaborn.pydata.org/)** <br>\n",
    "**[6. scikit-learn](https://scikit-learn.org/stable/)** <br>\n",
    "**[7. pandas](https://pandas.pydata.org/docs/)** <br>\n",
    "**[8. nltk (Natural Language Toolkit)](https://www.nltk.org/)** <br>"
   ]
  },
  {
   "cell_type": "markdown",
   "id": "3322a9d9",
   "metadata": {},
   "source": [
    "# -----------------------------------------"
   ]
  },
  {
   "cell_type": "markdown",
   "id": "1f5fcb62",
   "metadata": {},
   "source": [
    "## Python Functions"
   ]
  },
  {
   "cell_type": "code",
   "execution_count": 103,
   "id": "96db4cdb",
   "metadata": {},
   "outputs": [
    {
     "data": {
      "text/plain": [
       "6"
      ]
     },
     "execution_count": 103,
     "metadata": {},
     "output_type": "execute_result"
    }
   ],
   "source": [
    "def multiplier_function(a, b):\n",
    "    return a * b\n",
    "\n",
    "multiplier_function(3, 2)"
   ]
  },
  {
   "cell_type": "code",
   "execution_count": 105,
   "id": "124b1909",
   "metadata": {},
   "outputs": [
    {
     "data": {
      "image/png": "[encoded data removed]",
      "text/plain": [
       "<Figure size 432x288 with 1 Axes>"
      ]
     },
     "metadata": {
      "needs_background": "light"
     },
     "output_type": "display_data"
    }
   ],
   "source": [
    "def make_plot(x, y, plot_color):\n",
    "    plt.scatter(x, y, color = plot_color)\n",
    "    plt.xlabel('x')\n",
    "    plt.ylabel('y')\n",
    "    plt.title('second plot')\n",
    "    \n",
    "make_plot(np.arange(20, 40, 1), np.arange(30, 50, 1), \"green\")"
   ]
  },
  {
   "cell_type": "markdown",
   "id": "46a0006a",
   "metadata": {},
   "source": [
    "# -----------------------------------------"
   ]
  },
  {
   "cell_type": "markdown",
   "id": "df72de33",
   "metadata": {},
   "source": [
    "## Python built-in functions"
   ]
  },
  {
   "cell_type": "code",
   "execution_count": null,
   "id": "eb75c1fa",
   "metadata": {},
   "outputs": [],
   "source": [
    "# get help!\n",
    "# absolute value: abs()\n",
    "# all\n",
    "# any\n",
    "# ascii\n",
    "# bin\n",
    "# bool\n",
    "# complex\n",
    "# delattr, del\n",
    "# dict\n",
    "# dir\n",
    "# divmod\n",
    "# enumerate\n",
    "# eval\n",
    "# filter\n",
    "# float, int\n",
    "# format\n",
    "# frozenset\n",
    "# id\n",
    "# isinstance\n",
    "# len\n",
    "# shape\n",
    "# map\n",
    "# min, max\n",
    "# pow\n",
    "# reversed\n",
    "# round\n",
    "# slice\n",
    "# sorted\n",
    "# sum"
   ]
  },
  {
   "cell_type": "markdown",
   "id": "f2d5ebc8",
   "metadata": {},
   "source": [
    "# -----------------------------------------"
   ]
  },
  {
   "cell_type": "markdown",
   "id": "50235e82",
   "metadata": {},
   "source": [
    "# Homework 1"
   ]
  },
  {
   "cell_type": "markdown",
   "id": "16c2b794",
   "metadata": {},
   "source": [
    "#### Problem 1"
   ]
  },
  {
   "cell_type": "code",
   "execution_count": 32,
   "id": "2dee1343",
   "metadata": {},
   "outputs": [],
   "source": [
    "def Fib_rec(n):\n",
    "    if n == 0:\n",
    "        return 1\n",
    "    \n",
    "    elif n == 1:\n",
    "        return 1\n",
    "    \n",
    "    else:\n",
    "        return Fib_rec(n-1) + Fib_rec(n-2)"
   ]
  },
  {
   "cell_type": "code",
   "execution_count": 33,
   "id": "f6d9410a",
   "metadata": {},
   "outputs": [],
   "source": [
    "def Fib_for(n):\n",
    "    if n == 0:\n",
    "        return 1\n",
    "    \n",
    "    elif n == 1:\n",
    "        return 1\n",
    "    \n",
    "    else:\n",
    "        \n",
    "        sequence = []\n",
    "        sequence.append(1)\n",
    "        sequence.append(1)\n",
    "        for i in range(2, n + 1):\n",
    "            i_th = sequence[i-1] + sequence[i-2]\n",
    "            sequence.append(i_th)\n",
    "            \n",
    "    return sequence[n]"
   ]
  },
  {
   "cell_type": "markdown",
   "id": "2477355f",
   "metadata": {},
   "source": [
    "#### Problem 2"
   ]
  },
  {
   "cell_type": "markdown",
   "id": "ff491c91",
   "metadata": {},
   "source": [
    "#### Problem 3"
   ]
  },
  {
   "cell_type": "markdown",
   "id": "1a949b21",
   "metadata": {},
   "source": [
    "# -----------------------------------------"
   ]
  },
  {
   "cell_type": "markdown",
   "id": "c95d6a1e",
   "metadata": {},
   "source": [
    "## Object Oriented Programming in Python"
   ]
  },
  {
   "cell_type": "markdown",
   "id": "e76ab87f",
   "metadata": {},
   "source": [
    "# -----------------------------------------"
   ]
  },
  {
   "cell_type": "markdown",
   "id": "b22154c4",
   "metadata": {},
   "source": [
    "## Python Class"
   ]
  },
  {
   "cell_type": "markdown",
   "id": "c1dc4bd3",
   "metadata": {},
   "source": [
    "### 1. Objects and Methods"
   ]
  },
  {
   "cell_type": "markdown",
   "id": "13154352",
   "metadata": {},
   "source": [
    "let's define a class \"dog\", and the operations that a dog is able to to, like barking. We call these operations \"methods\" (functions inside a class):<br>"
   ]
  },
  {
   "cell_type": "code",
   "execution_count": 1,
   "id": "11c75806",
   "metadata": {},
   "outputs": [],
   "source": [
    "class Dog:\n",
    "    def bark(self):\n",
    "        print(\"bark\")"
   ]
  },
  {
   "cell_type": "code",
   "execution_count": 2,
   "id": "6e3241c5",
   "metadata": {},
   "outputs": [],
   "source": [
    "d = Dog()"
   ]
  },
  {
   "cell_type": "code",
   "execution_count": 3,
   "id": "e0cc6a10",
   "metadata": {},
   "outputs": [
    {
     "data": {
      "text/plain": [
       "__main__.Dog"
      ]
     },
     "execution_count": 3,
     "metadata": {},
     "output_type": "execute_result"
    }
   ],
   "source": [
    "type(d)"
   ]
  },
  {
   "cell_type": "markdown",
   "id": "c42cc02b",
   "metadata": {},
   "source": [
    "__ main __ is the module in which we defined our class"
   ]
  },
  {
   "cell_type": "markdown",
   "id": "7a6bc12e",
   "metadata": {},
   "source": [
    "now we can call a method of class Dog()"
   ]
  },
  {
   "cell_type": "code",
   "execution_count": 4,
   "id": "74731974",
   "metadata": {},
   "outputs": [
    {
     "name": "stdout",
     "output_type": "stream",
     "text": [
      "bark\n"
     ]
    }
   ],
   "source": [
    "d.bark()"
   ]
  },
  {
   "cell_type": "code",
   "execution_count": 6,
   "id": "7a068017",
   "metadata": {},
   "outputs": [],
   "source": [
    "class Dog:\n",
    "    \n",
    "    def run(self, speed):\n",
    "        print('running with speed', speed)\n",
    "        \n",
    "    def bark(self):\n",
    "        print(\"bark\")"
   ]
  },
  {
   "cell_type": "code",
   "execution_count": 7,
   "id": "3528f117",
   "metadata": {},
   "outputs": [
    {
     "name": "stdout",
     "output_type": "stream",
     "text": [
      "running with speed 2\n"
     ]
    }
   ],
   "source": [
    "d = Dog()\n",
    "d.run(2)"
   ]
  },
  {
   "cell_type": "markdown",
   "id": "52f21f77",
   "metadata": {},
   "source": [
    "### __ init __ method"
   ]
  },
  {
   "cell_type": "markdown",
   "id": "b08f8c77",
   "metadata": {},
   "source": [
    "whenever you create a new Dog() instance this method will be called and it will pass anything inside () to the __ init __ method:"
   ]
  },
  {
   "cell_type": "code",
   "execution_count": 8,
   "id": "9be15790",
   "metadata": {},
   "outputs": [],
   "source": [
    "class Dog:\n",
    "    \n",
    "    def __init__(self, name):\n",
    "        # name is an attribute of the class \"Dog\"\n",
    "        self.name = name\n",
    "        print(name)\n",
    "    \n",
    "    def run(self, speed):\n",
    "        print('running with speed', speed)\n",
    "        \n",
    "    def bark(self):\n",
    "        print(\"bark\")"
   ]
  },
  {
   "cell_type": "code",
   "execution_count": 11,
   "id": "598bf552",
   "metadata": {},
   "outputs": [
    {
     "name": "stdout",
     "output_type": "stream",
     "text": [
      "Leo\n"
     ]
    }
   ],
   "source": [
    "d1 = Dog(\"Leo\")"
   ]
  },
  {
   "cell_type": "markdown",
   "id": "b45ae1c2",
   "metadata": {},
   "source": [
    "we haven't called the __ init __ mehtod explicitely but it printed the dog's name"
   ]
  },
  {
   "cell_type": "code",
   "execution_count": 10,
   "id": "ff59be8e",
   "metadata": {},
   "outputs": [
    {
     "name": "stdout",
     "output_type": "stream",
     "text": [
      "cookie\n"
     ]
    }
   ],
   "source": [
    "d2 = Dog(\"cookie\")"
   ]
  },
  {
   "cell_type": "code",
   "execution_count": 12,
   "id": "bc933185",
   "metadata": {},
   "outputs": [
    {
     "name": "stdout",
     "output_type": "stream",
     "text": [
      "cookie\n"
     ]
    }
   ],
   "source": [
    "print(d2.name)"
   ]
  },
  {
   "cell_type": "code",
   "execution_count": 19,
   "id": "1c76bb5c",
   "metadata": {},
   "outputs": [],
   "source": [
    "class Dog:\n",
    "    \n",
    "    def __init__(self, name, age):\n",
    "        # name is an attribute of the class \"Dog\"\n",
    "        self.name = name\n",
    "        self.age = age\n",
    "        print(\"name:\", name)\n",
    "        print(\"age:\", age)\n",
    "    \n",
    "    def run(self, speed):\n",
    "        print('running with speed', speed)\n",
    "        \n",
    "    def bark(self):\n",
    "        print(\"bark\")"
   ]
  },
  {
   "cell_type": "code",
   "execution_count": 20,
   "id": "ab8a48c5",
   "metadata": {},
   "outputs": [
    {
     "name": "stdout",
     "output_type": "stream",
     "text": [
      "name: Leo\n",
      "age: 17\n"
     ]
    }
   ],
   "source": [
    "d1 = Dog(\"Leo\", 17)"
   ]
  },
  {
   "cell_type": "code",
   "execution_count": 11,
   "id": "a9b60975",
   "metadata": {},
   "outputs": [],
   "source": [
    "class Student:\n",
    "    def __init__(self, name, age, grade):\n",
    "        self.name = name\n",
    "        self.age = age\n",
    "        self.grade = grade\n",
    "        \n",
    "    def get_grade(self):\n",
    "        return self.grade\n",
    "    \n",
    "class Course:\n",
    "    def __init__(self, name, max_students):\n",
    "        self.name = name\n",
    "        self.max_students = max_students\n",
    "        self.students = []\n",
    "        \n",
    "    def add_student(self, student):\n",
    "        if len(self.students) < self.max_students:\n",
    "            self.students.append(student)\n",
    "            return True\n",
    "        return False\n",
    "    \n",
    "    def get_average_grade(self):\n",
    "        value = 0\n",
    "        for student in self.students:\n",
    "            value += student.get_grade()\n",
    "            \n",
    "        return value / len(self.students)"
   ]
  },
  {
   "cell_type": "code",
   "execution_count": 6,
   "id": "be5f9231",
   "metadata": {},
   "outputs": [],
   "source": [
    "s1 = Student(\"Sam\", 19, 85)\n",
    "s2 = Student(\"Ann\", 20, 95)\n",
    "s3 = Student(\"Tom\", 19, 75)"
   ]
  },
  {
   "cell_type": "code",
   "execution_count": 17,
   "id": "a5f10556",
   "metadata": {},
   "outputs": [
    {
     "name": "stdout",
     "output_type": "stream",
     "text": [
      "Ann\n"
     ]
    }
   ],
   "source": [
    "course = Course(\"math\", 2)\n",
    "course.add_student(s1)\n",
    "course.add_student(s2)\n",
    "print(course.students[1].name)"
   ]
  },
  {
   "cell_type": "code",
   "execution_count": 18,
   "id": "0d77e55c",
   "metadata": {},
   "outputs": [
    {
     "name": "stdout",
     "output_type": "stream",
     "text": [
      "90.0\n"
     ]
    }
   ],
   "source": [
    "print(course.get_average_grade())"
   ]
  },
  {
   "cell_type": "code",
   "execution_count": null,
   "id": "69fda8c5",
   "metadata": {},
   "outputs": [],
   "source": []
  }
 ],
 "metadata": {
  "kernelspec": {
   "display_name": "Python 3",
   "language": "python",
   "name": "python3"
  },
  "language_info": {
   "codemirror_mode": {
    "name": "ipython",
    "version": 3
   },
   "file_extension": ".py",
   "mimetype": "text/x-python",
   "name": "python",
   "nbconvert_exporter": "python",
   "pygments_lexer": "ipython3",
   "version": "3.8.8"
  }
 },
 "nbformat": 4,
 "nbformat_minor": 5
}
