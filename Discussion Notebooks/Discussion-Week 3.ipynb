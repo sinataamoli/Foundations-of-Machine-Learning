{
 "cells": [
  {
   "cell_type": "markdown",
   "id": "7d21f5a5",
   "metadata": {},
   "source": [
    "# ============================"
   ]
  },
  {
   "cell_type": "markdown",
   "id": "9d8e5cb5",
   "metadata": {},
   "source": [
    "# Week 3"
   ]
  },
  {
   "cell_type": "markdown",
   "id": "41b518b3",
   "metadata": {},
   "source": [
    "# ============================"
   ]
  },
  {
   "cell_type": "markdown",
   "id": "1a949b21",
   "metadata": {},
   "source": [
    "# -----------------------------------------"
   ]
  },
  {
   "cell_type": "markdown",
   "id": "c95d6a1e",
   "metadata": {},
   "source": [
    "## Object Oriented Programming in Python"
   ]
  },
  {
   "cell_type": "markdown",
   "id": "e76ab87f",
   "metadata": {},
   "source": [
    "# -----------------------------------------"
   ]
  },
  {
   "cell_type": "markdown",
   "id": "b22154c4",
   "metadata": {},
   "source": [
    "## Python Class"
   ]
  },
  {
   "cell_type": "markdown",
   "id": "c1dc4bd3",
   "metadata": {},
   "source": [
    "### 1. Objects and Methods"
   ]
  },
  {
   "cell_type": "markdown",
   "id": "13154352",
   "metadata": {},
   "source": [
    "let's define a class \"dog\", and the operations that a dog is able to to, like barking. We call these operations \"methods\" (functions inside a class):<br>"
   ]
  },
  {
   "cell_type": "markdown",
   "id": "e8ee03b6",
   "metadata": {},
   "source": [
    "# -----------------------------------------"
   ]
  },
  {
   "cell_type": "markdown",
   "id": "d3ac54aa",
   "metadata": {},
   "source": [
    "## Introduction to Statistics"
   ]
  },
  {
   "cell_type": "markdown",
   "id": "64767bed",
   "metadata": {},
   "source": [
    "# -----------------------------------------"
   ]
  },
  {
   "cell_type": "code",
   "execution_count": 1,
   "id": "11ab32a5",
   "metadata": {},
   "outputs": [],
   "source": [
    "import numpy as np\n",
    "import matplotlib.pyplot as plt\n",
    "\n",
    "# font parameters dictionary\n",
    "font = {'family' : 'serif',\n",
    "        'weight' : 'bold',\n",
    "        'size'   : 25,}\n",
    "\n",
    "\n",
    "# figure parameters dictionary\n",
    "figure = {\"figsize\" : (6,6),\n",
    "          \"dpi\" : 120,\n",
    "          \"facecolor\" : \"w\", \n",
    "          \"edgecolor\" : \"k\",}\n",
    "\n",
    "\n",
    "\n",
    "# use LaTeX fonts in the plot\n",
    "plt.rc('text', usetex=True)\n",
    "\n",
    "# Set the font parameters\n",
    "plt.rc('font', **font) "
   ]
  },
  {
   "cell_type": "markdown",
   "id": "bac1e5af",
   "metadata": {},
   "source": [
    "First, we are going to define a gaussian function. We can use built-in functions in numpy for getting a gaussian function. However, let's define it ourself  as a practice:\n"
   ]
  },
  {
   "cell_type": "code",
   "execution_count": 2,
   "id": "71dda16b",
   "metadata": {},
   "outputs": [],
   "source": [
    "def Gaussian_prob_dist(x, _mu = 0, _sigma = 1):\n",
    "    \"\"\" Gaussian Distribution: The probability of getting x given _mu, _sigma \"\"\"\n",
    "    return (1 / np.sqrt(2 * np.pi * sigma**2)) * np.exp(-(x - _mu)**2 / (2 * _sigma**2))"
   ]
  },
  {
   "cell_type": "code",
   "execution_count": 3,
   "id": "b7c22203",
   "metadata": {},
   "outputs": [],
   "source": [
    "# Initialize\n",
    "\n",
    "x_span = np.linspace(0, 20, 1000)\n",
    "mu, sigma = 10, 5\n",
    "\n",
    "prob_list = [Gaussian_prob_dist(x, mu, sigma) for x in x_span]"
   ]
  },
  {
   "cell_type": "markdown",
   "id": "0b6e4112",
   "metadata": {},
   "source": [
    "Another equivalent way of doing the above but using the numpy arrays. (Be very careful when writing code this way, since the code above works for any iterable object; but, the method used below can only be applied for the numpy array object and not a list."
   ]
  },
  {
   "cell_type": "code",
   "execution_count": 7,
   "id": "3b68743d",
   "metadata": {},
   "outputs": [
    {
     "data": {
      "image/png": "[encoded data removed]",
      "text/plain": [
       "<Figure size 576x576 with 1 Axes>"
      ]
     },
     "metadata": {
      "needs_background": "light"
     },
     "output_type": "display_data"
    }
   ],
   "source": [
    "plt.figure(figsize = (8, 8))\n",
    "plt.plot(x_span, prob_list)\n",
    "\n",
    "plt.title(\"Gaussian Distribution for x_span with given $\\mu$ and $\\sigma$\", fontsize = 20)\n",
    "plt.xlabel(r\"x\", fontsize = 18)\n",
    "plt.ylabel(r\"$P(x| \\mu, \\sigma)$\", fontsize = 18)\n",
    "\n",
    "plt.show()"
   ]
  },
  {
   "cell_type": "markdown",
   "id": "2b923988",
   "metadata": {},
   "source": [
    "### A new particle is discovered in CERN!"
   ]
  },
  {
   "cell_type": "markdown",
   "id": "5753e77c",
   "metadata": {},
   "source": [
    "$$\n",
    "\\begin{gather}\n",
    "M_{ATLAS} = 10.12 \\pm 3.7 \\\\\n",
    "M_{CMS} = 7.42 \\pm 1.6\n",
    "\\end{gather}\n",
    "$$"
   ]
  },
  {
   "cell_type": "markdown",
   "id": "d83b1db5",
   "metadata": {},
   "source": [
    "#### Q: What should be reported to the public as the new particle's mass?"
   ]
  },
  {
   "cell_type": "code",
   "execution_count": 8,
   "id": "b840821b",
   "metadata": {},
   "outputs": [],
   "source": [
    "mass_atlas, mass_err_atlas = 10.12, 3.7\n",
    "mass_cms, mass_err_cms = 7.42, 1.6"
   ]
  },
  {
   "cell_type": "code",
   "execution_count": 10,
   "id": "965c8d65",
   "metadata": {},
   "outputs": [
    {
     "data": {
      "text/plain": [
       "8.77"
      ]
     },
     "execution_count": 10,
     "metadata": {},
     "output_type": "execute_result"
    }
   ],
   "source": [
    "report_1 = (mass_atlas + mass_cms) / 2\n",
    "report_1"
   ]
  },
  {
   "cell_type": "markdown",
   "id": "b14be4b6",
   "metadata": {},
   "source": [
    "$ X_1 $: mass_atlas, mass_err_atlas  \n",
    "$ X_2 $: mass_cms, mass_err_cms  "
   ]
  },
  {
   "cell_type": "markdown",
   "id": "5d3d4f67",
   "metadata": {},
   "source": [
    "### Bayes Theorem"
   ]
  },
  {
   "cell_type": "markdown",
   "id": "5ea1480b",
   "metadata": {},
   "source": [
    "Bayes Theorem: $p(m_{x}| X_{1}, X_{2}) \\varpropto p(X_{1}, X_{2}|m_{x})$"
   ]
  },
  {
   "cell_type": "markdown",
   "id": "23a726da",
   "metadata": {},
   "source": [
    "More precisely:"
   ]
  },
  {
   "cell_type": "markdown",
   "id": "49d659b2",
   "metadata": {},
   "source": [
    "$P(X|Y) = \\frac{P(Y | X) P(X)}{P(Y)}$"
   ]
  },
  {
   "cell_type": "markdown",
   "id": "468d19b6",
   "metadata": {},
   "source": [
    "### Assumptions"
   ]
  },
  {
   "cell_type": "markdown",
   "id": "da54faf0",
   "metadata": {},
   "source": [
    "1- The measurements are independent <br>\n",
    "$P(X_{1}, X_{2} | m_{x}) = P(X_{1} | m_{x}) * p(X_{2} | m_{x})$"
   ]
  },
  {
   "cell_type": "markdown",
   "id": "798da527",
   "metadata": {},
   "source": [
    "2- Measurements follow a Normal Distribution\n",
    "$PDF(m_{\\text{measured}}) = Gaussian(m_{\\text{measured}}, \\sigma_{\\text{measured}})$"
   ]
  },
  {
   "cell_type": "markdown",
   "id": "5dbec88f",
   "metadata": {},
   "source": [
    "3- no info about $m_{x}$: the simplest choice: uniform PDF (Top Hat)"
   ]
  },
  {
   "cell_type": "markdown",
   "id": "b3541acc",
   "metadata": {},
   "source": [
    "let's calculate $p(X_{1} | m_{x})$:"
   ]
  },
  {
   "cell_type": "markdown",
   "id": "bc4c4a22",
   "metadata": {},
   "source": [
    "We start by sampling potential values for $m_{X}$:"
   ]
  },
  {
   "cell_type": "code",
   "execution_count": 11,
   "id": "825a1e8d",
   "metadata": {},
   "outputs": [],
   "source": [
    "m_X_span = np.arange(0, 25, 0.001)"
   ]
  },
  {
   "cell_type": "markdown",
   "id": "342427ed",
   "metadata": {},
   "source": [
    "Making two arrays of zeros for storing the probabilities"
   ]
  },
  {
   "cell_type": "code",
   "execution_count": 12,
   "id": "1468f801",
   "metadata": {},
   "outputs": [],
   "source": [
    "prob_atlas = np.zeros(len(m_X_span))\n",
    "prob_cms = np.zeros(len(m_X_span))"
   ]
  },
  {
   "cell_type": "markdown",
   "id": "2292bbc8",
   "metadata": {},
   "source": [
    "Building the joint pdf [p(X1, X2)]"
   ]
  },
  {
   "cell_type": "code",
   "execution_count": 13,
   "id": "d7553a7b",
   "metadata": {},
   "outputs": [],
   "source": [
    "for i, m in enumerate(m_X_span):\n",
    "    prob_atlas[i] = Gaussian_prob_dist(mass_atlas, _mu = m, _sigma = mass_err_atlas)\n",
    "    prob_cms[i] = Gaussian_prob_dist(mass_cms, _mu = m, _sigma = mass_err_cms)"
   ]
  },
  {
   "cell_type": "markdown",
   "id": "e5a41ce2",
   "metadata": {},
   "source": [
    "Find the joint probability"
   ]
  },
  {
   "cell_type": "code",
   "execution_count": 16,
   "id": "f1f67627",
   "metadata": {},
   "outputs": [
    {
     "data": {
      "text/plain": [
       "array([3.23111642e-09, 3.24289078e-09, 3.25470654e-09, ...,\n",
       "       1.22205269e-32, 1.21237231e-32, 1.20276805e-32])"
      ]
     },
     "execution_count": 16,
     "metadata": {},
     "output_type": "execute_result"
    }
   ],
   "source": [
    "joint_prob = prob_atlas * prob_cms\n",
    "joint_prob"
   ]
  },
  {
   "cell_type": "code",
   "execution_count": 17,
   "id": "cb5dfd4f",
   "metadata": {},
   "outputs": [],
   "source": [
    "Normalization = len(m_X_span) / (sum(joint_prob) * (max(m_X_span) - min(m_X_span)))\n",
    "joint_prob_normalized = joint_prob * Normalization"
   ]
  },
  {
   "cell_type": "markdown",
   "id": "6be6c2e8",
   "metadata": {},
   "source": [
    "Finding the mass corresponding to the highest probability:"
   ]
  },
  {
   "cell_type": "code",
   "execution_count": 32,
   "id": "8a2f4a9f",
   "metadata": {},
   "outputs": [
    {
     "name": "stdout",
     "output_type": "stream",
     "text": [
      "The value with the maximum probability is:  7.845\n"
     ]
    }
   ],
   "source": [
    "m_X_max_prob = m_X_span[joint_prob == max(joint_prob)]\n",
    "print(\"The value with the maximum probability is: \", m_X_max_prob[0])"
   ]
  },
  {
   "cell_type": "markdown",
   "id": "b3c26d02",
   "metadata": {},
   "source": [
    "plotting the pdf for the two measurements + joint pdf (normalized and unnormalized):"
   ]
  },
  {
   "cell_type": "code",
   "execution_count": 29,
   "id": "2d9a9dba",
   "metadata": {},
   "outputs": [
    {
     "data": {
      "image/png": "[encoded data removed]",
      "text/plain": [
       "<Figure size 576x576 with 1 Axes>"
      ]
     },
     "metadata": {
      "needs_background": "light"
     },
     "output_type": "display_data"
    }
   ],
   "source": [
    "plt.figure(figsize = (8, 8))\n",
    "\n",
    "plt.plot(m_X_span, prob_atlas, label = \"ATLAS TEAM\")\n",
    "plt.plot(m_X_span, prob_cms, label = \"CMS TEAM\")\n",
    "\n",
    "plt.plot(m_X_span, joint_prob, label = \"Joint probability (Not normalized)\")\n",
    "plt.plot(m_X_span, joint_prob_normalized, label = \"Joint probability (normalized)\")\n",
    "\n",
    "plt.vlines(report_1, 0, 0.27, color = 'blue', linestyles=\"dashed\", label=\"Average of ATLAS and CMS\")\n",
    "plt.vlines(m_X_max_prob, 0, 0.27, color = 'black', linestyles=\"dashed\", label=\"Max Probability\")\n",
    "\n",
    "plt.title(r\"Prob. Dist. Funct.\", fontsize = 20)\n",
    "plt.xlabel(r\"$m_{x}$\", fontsize = 19)\n",
    "plt.ylabel(r\"Probability\", fontsize = 18)\n",
    "\n",
    "plt.legend(fontsize = 14)\n",
    "\n",
    "plt.show()"
   ]
  },
  {
   "cell_type": "markdown",
   "id": "17b6ec32",
   "metadata": {},
   "source": [
    "The analytical way of finding this result is simple as we are working with Gaussian Functions:"
   ]
  },
  {
   "cell_type": "markdown",
   "id": "a66ffdb0",
   "metadata": {},
   "source": [
    "The probability of two Gaussians (independent) is a Gaussian PDF"
   ]
  },
  {
   "cell_type": "markdown",
   "id": "e22401e6",
   "metadata": {},
   "source": [
    "$Gaussian(\\mu = \\frac{\\mu_{1} \\sigma_{2}^{2} + \\mu_{2}\\sigma_{1}^{2}}{\\sigma_{1}^{2}+\\sigma_{2}^{2}}, \\sigma = \\frac{\\sigma_{1}\\sigma_{2}}{\\sqrt{\\sigma_{1}^{2} +\\sigma_{2}^{2}}}) = Gaussian (\\mu_{1}, \\sigma_{1}) \\times Gaussian (\\mu_{2}, \\sigma_{2})$"
   ]
  }
 ],
 "metadata": {
  "kernelspec": {
   "display_name": "Python 3",
   "language": "python",
   "name": "python3"
  },
  "language_info": {
   "codemirror_mode": {
    "name": "ipython",
    "version": 3
   },
   "file_extension": ".py",
   "mimetype": "text/x-python",
   "name": "python",
   "nbconvert_exporter": "python",
   "pygments_lexer": "ipython3",
   "version": "3.8.8"
  }
 },
 "nbformat": 4,
 "nbformat_minor": 5
}
