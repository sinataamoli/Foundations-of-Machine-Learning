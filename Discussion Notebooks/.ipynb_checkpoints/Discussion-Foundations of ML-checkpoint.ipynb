{
 "cells": [
  {
   "cell_type": "markdown",
   "id": "3d1f0b53",
   "metadata": {},
   "source": [
    "# ============================"
   ]
  },
  {
   "cell_type": "markdown",
   "id": "9d8e5cb5",
   "metadata": {},
   "source": [
    "# Week 1"
   ]
  },
  {
   "cell_type": "markdown",
   "id": "a40d1d11",
   "metadata": {},
   "source": [
    "# ============================"
   ]
  },
  {
   "cell_type": "markdown",
   "id": "1f7c6544",
   "metadata": {},
   "source": [
    "## Python as Calculator"
   ]
  },
  {
   "cell_type": "markdown",
   "id": "5ece6b25",
   "metadata": {},
   "source": [
    "# -----------------------------------------"
   ]
  },
  {
   "cell_type": "markdown",
   "id": "66a38868",
   "metadata": {},
   "source": [
    "## Loop control statements (while, if, for)"
   ]
  },
  {
   "cell_type": "code",
   "execution_count": null,
   "id": "1dc43ab8",
   "metadata": {},
   "outputs": [],
   "source": []
  },
  {
   "cell_type": "markdown",
   "id": "e293dbb8",
   "metadata": {},
   "source": [
    "#### Control Flow [Documentation](https://docs.python.org/3/tutorial/controlflow.html)"
   ]
  },
  {
   "cell_type": "markdown",
   "id": "7ca975c3",
   "metadata": {},
   "source": [
    "# -----------------------------------------"
   ]
  },
  {
   "cell_type": "markdown",
   "id": "ce51920d",
   "metadata": {},
   "source": [
    "## Python Data Structures"
   ]
  },
  {
   "cell_type": "markdown",
   "id": "3a472f3d",
   "metadata": {},
   "source": [
    "### 1. Strings"
   ]
  },
  {
   "cell_type": "code",
   "execution_count": null,
   "id": "2353d93f",
   "metadata": {},
   "outputs": [],
   "source": []
  },
  {
   "cell_type": "markdown",
   "id": "3faa5ccc",
   "metadata": {},
   "source": [
    "### 2. Lists"
   ]
  },
  {
   "cell_type": "code",
   "execution_count": null,
   "id": "2db14ca2",
   "metadata": {},
   "outputs": [],
   "source": []
  },
  {
   "cell_type": "markdown",
   "id": "2b515668",
   "metadata": {},
   "source": [
    "### 3. Dictionary"
   ]
  },
  {
   "cell_type": "code",
   "execution_count": null,
   "id": "21bfd271",
   "metadata": {},
   "outputs": [],
   "source": []
  },
  {
   "cell_type": "markdown",
   "id": "a3ba21ce",
   "metadata": {},
   "source": [
    "# -----------------------------------------"
   ]
  },
  {
   "cell_type": "markdown",
   "id": "26fb3a3f",
   "metadata": {},
   "source": [
    "## Importing Packages in Python"
   ]
  },
  {
   "cell_type": "code",
   "execution_count": 5,
   "id": "8ab6e1e9",
   "metadata": {},
   "outputs": [],
   "source": [
    "# Import <package name> as <abbreviation>"
   ]
  },
  {
   "cell_type": "markdown",
   "id": "9afc3a32",
   "metadata": {},
   "source": [
    "### Useful Python Packages"
   ]
  },
  {
   "cell_type": "markdown",
   "id": "0a434f82",
   "metadata": {},
   "source": [
    "### 1. Numpy  "
   ]
  },
  {
   "cell_type": "markdown",
   "id": "3a61848a",
   "metadata": {},
   "source": [
    "#### [Numpy Documentation](https://numpy.org/devdocs/)"
   ]
  },
  {
   "cell_type": "code",
   "execution_count": null,
   "id": "88576589",
   "metadata": {},
   "outputs": [],
   "source": []
  },
  {
   "cell_type": "markdown",
   "id": "3d78a845",
   "metadata": {},
   "source": [
    "### 2. Matplotlib"
   ]
  },
  {
   "cell_type": "markdown",
   "id": "c41d4acc",
   "metadata": {},
   "source": [
    "#### [Matplotlib Documentation](https://matplotlib.org/stable/index.html)"
   ]
  },
  {
   "cell_type": "code",
   "execution_count": null,
   "id": "8eb7791a",
   "metadata": {},
   "outputs": [],
   "source": []
  },
  {
   "cell_type": "markdown",
   "id": "13158ce9",
   "metadata": {},
   "source": [
    "### 3. Math"
   ]
  },
  {
   "cell_type": "markdown",
   "id": "fff5bfc8",
   "metadata": {},
   "source": [
    "#### [Math Documentation](https://docs.python.org/3/library/math.html)"
   ]
  },
  {
   "cell_type": "code",
   "execution_count": null,
   "id": "78e6dfe6",
   "metadata": {},
   "outputs": [],
   "source": []
  },
  {
   "cell_type": "code",
   "execution_count": null,
   "id": "2bf8edc3",
   "metadata": {},
   "outputs": [],
   "source": []
  },
  {
   "cell_type": "code",
   "execution_count": null,
   "id": "76a3ac83",
   "metadata": {},
   "outputs": [],
   "source": []
  },
  {
   "cell_type": "markdown",
   "id": "c6f02b9d",
   "metadata": {},
   "source": [
    "### Vectorized Calculation"
   ]
  },
  {
   "cell_type": "code",
   "execution_count": null,
   "id": "56be2f87",
   "metadata": {},
   "outputs": [],
   "source": []
  }
 ],
 "metadata": {
  "kernelspec": {
   "display_name": "Python 3",
   "language": "python",
   "name": "python3"
  },
  "language_info": {
   "codemirror_mode": {
    "name": "ipython",
    "version": 3
   },
   "file_extension": ".py",
   "mimetype": "text/x-python",
   "name": "python",
   "nbconvert_exporter": "python",
   "pygments_lexer": "ipython3",
   "version": "3.8.8"
  }
 },
 "nbformat": 4,
 "nbformat_minor": 5
}
